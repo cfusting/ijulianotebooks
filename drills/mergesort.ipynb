{
 "cells": [
  {
   "cell_type": "code",
   "execution_count": 16,
   "metadata": {
    "collapsed": false
   },
   "outputs": [
    {
     "data": {
      "text/plain": [
       "merge! (generic function with 1 method)"
      ]
     },
     "execution_count": 16,
     "metadata": {},
     "output_type": "execute_result"
    }
   ],
   "source": [
    "function merge!{T <: Number}(A::Array{T}, p::Int, q::Int, r::Int)\n",
    "    n₁ = q - p + 1\n",
    "    n₂ = r - q\n",
    "    L = Array(T, n₁)\n",
    "    R = Array(T, n₂)\n",
    "    for i = 1:n₁\n",
    "        L[i] = A[p + i - 1]\n",
    "    end\n",
    "    for j = 1:n₂\n",
    "        R[j] = A[q + j]\n",
    "    end\n",
    "    i = 1\n",
    "    j = 1\n",
    "    for k = p:r\n",
    "        if L[i] <= R[j]\n",
    "            A[k] = L[i]\n",
    "            i = i + 1\n",
    "        else\n",
    "            A[k] = R[j]\n",
    "            j = j + 1\n",
    "        end\n",
    "        #println(\"k: $k, i: $i, j: $j\")\n",
    "        if i > n₁\n",
    "            for f = (k + 1):r\n",
    "                A[f] = R[j]\n",
    "                j = j + 1\n",
    "            end\n",
    "            break\n",
    "        elseif j > n₂\n",
    "            for f = (k + 1):r\n",
    "                A[f] = L[i]\n",
    "                i = i + 1\n",
    "            end\n",
    "            break\n",
    "        end\n",
    "    end\n",
    "end"
   ]
  },
  {
   "cell_type": "code",
   "execution_count": 17,
   "metadata": {
    "collapsed": false
   },
   "outputs": [
    {
     "data": {
      "text/plain": [
       "mergesort! (generic function with 1 method)"
      ]
     },
     "execution_count": 17,
     "metadata": {},
     "output_type": "execute_result"
    }
   ],
   "source": [
    "function mergesort!{T <: Number}(A::Array{T}, p::Int, r::Int)\n",
    "    if p < r\n",
    "        q = floor(Int, (p + r) / 2)\n",
    "        mergesort!(A, p, q)\n",
    "        mergesort!(A, q + 1, r)\n",
    "        merge!(A, p, q, r)\n",
    "    end\n",
    "end"
   ]
  },
  {
   "cell_type": "code",
   "execution_count": 19,
   "metadata": {
    "collapsed": false
   },
   "outputs": [
    {
     "data": {
      "text/plain": [
       "10-element Array{Float64,1}:\n",
       " 0.0173277\n",
       " 0.234154 \n",
       " 0.24323  \n",
       " 0.344523 \n",
       " 0.446789 \n",
       " 0.475173 \n",
       " 0.608077 \n",
       " 0.831851 \n",
       " 0.868638 \n",
       " 0.886939 "
      ]
     },
     "execution_count": 19,
     "metadata": {},
     "output_type": "execute_result"
    }
   ],
   "source": [
    "A = rand(10)\n",
    "mergesort!(A, 1, length(A))\n",
    "A"
   ]
  }
 ],
 "metadata": {
  "hide_input": false,
  "kernelspec": {
   "display_name": "Julia 0.4.2",
   "language": "julia",
   "name": "julia-0.4"
  },
  "language_info": {
   "file_extension": ".jl",
   "mimetype": "application/julia",
   "name": "julia",
   "version": "0.4.5"
  }
 },
 "nbformat": 4,
 "nbformat_minor": 0
}
