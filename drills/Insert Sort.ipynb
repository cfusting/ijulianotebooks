{
 "cells": [
  {
   "cell_type": "code",
   "execution_count": 1,
   "metadata": {
    "collapsed": false
   },
   "outputs": [],
   "source": [
    "\"\"\"\n",
    "    invariantascending(a, j)\n",
    "\n",
    "Given `a[1...j-1]` is sorted, sort `a[1...j]`. \n",
    "\n",
    "# Example\n",
    "```julia\n",
    "julia> invariantascending([1,3,2], 3)\n",
    "[1,2,3]\n",
    "```\n",
    "\"\"\"\n",
    "function invariantascending(a, j) \n",
    "    cur = a[j]\n",
    "    i = j - 1\n",
    "    while i > 0 && a[i] > cur\n",
    "        a[i + 1] = a[i]\n",
    "        i = i - 1\n",
    "    end\n",
    "    a[i + 1] = cur\n",
    "a\n",
    "end\n",
    "\n",
    "@assert invariantascending([1,2], 2) == [1,2]\n",
    "@assert invariantascending([2,1], 2) == [1,2]\n",
    "@assert invariantascending([1,1], 2) == [1,1]\n",
    "@assert invariantascending([1,3,2], 2) == [1,3,2]\n",
    "@assert invariantascending([1,3,2], 3) == [1,2,3]"
   ]
  },
  {
   "cell_type": "code",
   "execution_count": 2,
   "metadata": {
    "collapsed": false
   },
   "outputs": [],
   "source": [
    "\"\"\"\n",
    "    invariantdescending(a, j)\n",
    "\n",
    "Given `a[1...j-1]` is sorted, sort `a[1...j]`. \n",
    "\n",
    "# Example\n",
    "```julia\n",
    "julia> invariantdescending([1,3,2], 3)\n",
    "[3,2,1]\n",
    "```\n",
    "\"\"\"\n",
    "function invariantdescending(a, j) \n",
    "    cur = a[j]\n",
    "    i = j - 1\n",
    "    while i > 0 && a[i] < cur\n",
    "        a[i + 1] = a[i]\n",
    "        i = i - 1\n",
    "    end\n",
    "    a[i + 1] = cur\n",
    "a\n",
    "end\n",
    "\n",
    "@assert invariantdescending([1,2], 2) == [2,1]\n",
    "@assert invariantdescending([2,1], 2) == [2,1]\n",
    "@assert invariantdescending([1,1], 2) == [1,1]\n",
    "@assert invariantdescending([1,3,2], 2) == [3,1,2]\n",
    "@assert invariantdescending([2,1,3], 3) == [3,2,1]"
   ]
  },
  {
   "cell_type": "code",
   "execution_count": 7,
   "metadata": {
    "collapsed": false
   },
   "outputs": [
    {
     "data": {
      "text/plain": [
       "insertsort (generic function with 1 method)"
      ]
     },
     "execution_count": 7,
     "metadata": {},
     "output_type": "execute_result"
    }
   ],
   "source": [
    "function insertsort(a; asc = true)\n",
    "    for j in 2:length(a)\n",
    "        if asc\n",
    "            invariantascending(a, j)\n",
    "        else\n",
    "            invariantdescending(a, j)\n",
    "        end\n",
    "    end\n",
    "    a\n",
    "end"
   ]
  },
  {
   "cell_type": "code",
   "execution_count": 5,
   "metadata": {
    "collapsed": false
   },
   "outputs": [
    {
     "data": {
      "text/plain": [
       "10-element Array{Float64,1}:\n",
       " 0.127904\n",
       " 0.144975\n",
       " 0.339633\n",
       " 0.355412\n",
       " 0.449545\n",
       " 0.44995 \n",
       " 0.691244\n",
       " 0.722317\n",
       " 0.89442 \n",
       " 0.97655 "
      ]
     },
     "execution_count": 5,
     "metadata": {},
     "output_type": "execute_result"
    }
   ],
   "source": [
    "insertsort(rand(10))"
   ]
  },
  {
   "cell_type": "code",
   "execution_count": 6,
   "metadata": {
    "collapsed": false
   },
   "outputs": [
    {
     "data": {
      "text/plain": [
       "10-element Array{Float64,1}:\n",
       " 0.917406 \n",
       " 0.908803 \n",
       " 0.837002 \n",
       " 0.800032 \n",
       " 0.693323 \n",
       " 0.682181 \n",
       " 0.449163 \n",
       " 0.236281 \n",
       " 0.0786524\n",
       " 0.0182404"
      ]
     },
     "execution_count": 6,
     "metadata": {},
     "output_type": "execute_result"
    }
   ],
   "source": [
    "insertsort(rand(10), asc = false)"
   ]
  }
 ],
 "metadata": {
  "hide_input": false,
  "kernelspec": {
   "display_name": "Julia 0.4.2",
   "language": "julia",
   "name": "julia-0.4"
  },
  "language_info": {
   "file_extension": ".jl",
   "mimetype": "application/julia",
   "name": "julia",
   "version": "0.4.5"
  }
 },
 "nbformat": 4,
 "nbformat_minor": 0
}
