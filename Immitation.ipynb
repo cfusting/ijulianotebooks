{
 "cells": [
  {
   "cell_type": "code",
   "execution_count": 67,
   "metadata": {
    "collapsed": false
   },
   "outputs": [
    {
     "ename": "LoadError",
     "evalue": "LoadError: __precompile__(true) but require failed to create a precompiled cache file\nwhile loading In[67], in expression starting on line 1",
     "output_type": "error",
     "traceback": [
      "LoadError: __precompile__(true) but require failed to create a precompiled cache file\nwhile loading In[67], in expression starting on line 1",
      "",
      " in require at ./loading.jl:252",
      " in stale_cachefile at loading.jl:441",
      " in recompile_stale at loading.jl:458",
      " in _require_from_serialized at loading.jl:83",
      " in _require_from_serialized at ./loading.jl:109",
      " in require at ./loading.jl:219"
     ]
    }
   ],
   "source": [
    "using DataFrames"
   ]
  },
  {
   "cell_type": "code",
   "execution_count": 13,
   "metadata": {
    "collapsed": false
   },
   "outputs": [
    {
     "data": {
      "text/plain": [
       "immitate (generic function with 1 method)"
      ]
     },
     "execution_count": 13,
     "metadata": {},
     "output_type": "execute_result"
    }
   ],
   "source": [
    "function immitate(moved, nodes, prob)\n",
    "    tot = 0\n",
    "    for i in 1:moved\n",
    "        for j in 1:(nodes - moved)\n",
    "            if prob > rand() tot = tot + 1 end \n",
    "        end\n",
    "    end\n",
    "    tot\n",
    "end"
   ]
  },
  {
   "cell_type": "code",
   "execution_count": 64,
   "metadata": {
    "collapsed": false
   },
   "outputs": [
    {
     "data": {
      "text/plain": [
       "12-element Array{Int64,1}:\n",
       " 1\n",
       " 1\n",
       " 2\n",
       " 1\n",
       " 1\n",
       " 2\n",
       " 2\n",
       " 1\n",
       " 1\n",
       " 1\n",
       " 2\n",
       " 0"
      ]
     },
     "execution_count": 64,
     "metadata": {},
     "output_type": "execute_result"
    }
   ],
   "source": [
    "nodes = 3\n",
    "prob = .5\n",
    "moved = 1\n",
    "record = [1]\n",
    "while moved > 0\n",
    "    moved = immitate(moved, nodes, prob)\n",
    "    #print(moved, \"|\")\n",
    "    push!(record, moved)\n",
    "end\n",
    "record"
   ]
  },
  {
   "cell_type": "code",
   "execution_count": 65,
   "metadata": {
    "collapsed": false
   },
   "outputs": [
    {
     "ename": "LoadError",
     "evalue": "LoadError: UndefVarError: plot not defined\nwhile loading In[65], in expression starting on line 1",
     "output_type": "error",
     "traceback": [
      "LoadError: UndefVarError: plot not defined\nwhile loading In[65], in expression starting on line 1",
      "",
      " in anonymous at no file"
     ]
    }
   ],
   "source": [
    "plot([x for x = 1:12], record)"
   ]
  }
 ],
 "metadata": {
  "kernelspec": {
   "display_name": "Julia 0.4.3",
   "language": "julia",
   "name": "julia-0.4"
  },
  "language_info": {
   "file_extension": ".jl",
   "mimetype": "application/julia",
   "name": "julia",
   "version": "0.4.3"
  }
 },
 "nbformat": 4,
 "nbformat_minor": 0
}
