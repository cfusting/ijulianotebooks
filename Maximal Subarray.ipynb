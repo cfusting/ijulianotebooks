{
 "cells": [
  {
   "cell_type": "code",
   "execution_count": 1,
   "metadata": {
    "collapsed": false
   },
   "outputs": [
    {
     "data": {
      "text/plain": [
       "centermax (generic function with 1 method)"
      ]
     },
     "execution_count": 1,
     "metadata": {},
     "output_type": "execute_result"
    }
   ],
   "source": [
    "function centermax(A, low, mid, high) \n",
    "    lsum = -Inf\n",
    "    rsum = -Inf\n",
    "    sum = 0\n",
    "    maxleft = mid \n",
    "    maxright = mid\n",
    "    # Left\n",
    "    for i = mid:-1:low\n",
    "        sum = sum + A[i]\n",
    "        if sum > lsum\n",
    "            lsum = sum\n",
    "            maxleft = i\n",
    "        end\n",
    "    end\n",
    "    # Right\n",
    "    sum = 0\n",
    "    for j = (mid + 1):high\n",
    "        sum = sum + A[j]\n",
    "        if sum > rsum\n",
    "            rsum = sum\n",
    "            maxright = j\n",
    "        end\n",
    "    end\n",
    "    (maxleft, maxright, lsum + rsum)\n",
    "end"
   ]
  },
  {
   "cell_type": "code",
   "execution_count": 2,
   "metadata": {
    "collapsed": false
   },
   "outputs": [
    {
     "data": {
      "text/plain": [
       "findmaxsubarray (generic function with 1 method)"
      ]
     },
     "execution_count": 2,
     "metadata": {},
     "output_type": "execute_result"
    }
   ],
   "source": [
    "function findmaxsubarray(A, low, high)\n",
    "    if high == low\n",
    "        return (low, high, A[low])\n",
    "    end\n",
    "    mid = floor(Int, (low + high) / 2)\n",
    "    (llow, lhigh, lsum) = findmaxsubarray(A, low, mid)\n",
    "    (rlow, rhigh, rsum) = findmaxsubarray(A, mid + 1, high)\n",
    "    (clow, chigh, csum) = centermax(A, low, mid, high)\n",
    "    if lsum >= rsum && lsum >= csum\n",
    "        return (llow, lhigh, lsum)\n",
    "    elseif rsum >= lsum && rsum >= csum\n",
    "        return (rlow, rhigh, rsum)\n",
    "    else\n",
    "        return (clow, chigh, csum)\n",
    "    end\n",
    "end"
   ]
  },
  {
   "cell_type": "code",
   "execution_count": 3,
   "metadata": {
    "collapsed": false
   },
   "outputs": [],
   "source": [
    "A = [13, -3, -25, 20, -3, -16, -23, 18, 20, -7, 12, -5, -22, 15, -4, 7];"
   ]
  },
  {
   "cell_type": "code",
   "execution_count": 5,
   "metadata": {
    "collapsed": false
   },
   "outputs": [
    {
     "data": {
      "text/plain": [
       "(8,11,43)"
      ]
     },
     "execution_count": 5,
     "metadata": {},
     "output_type": "execute_result"
    }
   ],
   "source": [
    "findmaxsubarray(A,1,length(A))"
   ]
  }
 ],
 "metadata": {
  "hide_input": false,
  "kernelspec": {
   "display_name": "Julia 0.4.2",
   "language": "julia",
   "name": "julia-0.4"
  },
  "language_info": {
   "file_extension": ".jl",
   "mimetype": "application/julia",
   "name": "julia",
   "version": "0.4.5"
  }
 },
 "nbformat": 4,
 "nbformat_minor": 0
}
