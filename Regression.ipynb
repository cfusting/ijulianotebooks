{
 "cells": [
  {
   "cell_type": "code",
   "execution_count": 1,
   "metadata": {
    "collapsed": false
   },
   "outputs": [
    {
     "name": "stderr",
     "output_type": "stream",
     "text": [
      "Warning: could not import Base.add! into NumericExtensions\n"
     ]
    }
   ],
   "source": [
    "using GLM, DataFrames, Distributions, NumericExtensions"
   ]
  },
  {
   "cell_type": "code",
   "execution_count": 2,
   "metadata": {
    "collapsed": false
   },
   "outputs": [
    {
     "data": {
      "text/html": [
       "<table class=\"data-frame\"><tr><th></th><th>X</th><th>Y</th></tr><tr><th>1</th><td>1</td><td>2</td></tr><tr><th>2</th><td>2</td><td>4</td></tr><tr><th>3</th><td>3</td><td>7</td></tr></table>"
      ],
      "text/plain": [
       "3x2 DataFrame\n",
       "| Row | X | Y |\n",
       "|-----|---|---|\n",
       "| 1   | 1 | 2 |\n",
       "| 2   | 2 | 4 |\n",
       "| 3   | 3 | 7 |"
      ]
     },
     "execution_count": 2,
     "metadata": {},
     "output_type": "execute_result"
    }
   ],
   "source": [
    "data = DataFrame(X = [1,2,3], Y = [2,4,7])"
   ]
  },
  {
   "cell_type": "code",
   "execution_count": 3,
   "metadata": {
    "collapsed": false
   },
   "outputs": [
    {
     "data": {
      "text/plain": [
       "DataFrameRegressionModel{LinearModel{DensePredQR{Float64}},Float64}:\n",
       "\n",
       "Coefficients:\n",
       "              Estimate Std.Error  t value Pr(>|t|)\n",
       "(Intercept)  -0.666667   0.62361 -1.06904   0.4788\n",
       "X                  2.5  0.288675  8.66025   0.0732\n"
      ]
     },
     "execution_count": 3,
     "metadata": {},
     "output_type": "execute_result"
    }
   ],
   "source": [
    "model = lm(Y ~ X, data)"
   ]
  },
  {
   "cell_type": "code",
   "execution_count": 4,
   "metadata": {
    "collapsed": false
   },
   "outputs": [
    {
     "data": {
      "text/plain": [
       "2x2 Array{Float64,2}:\n",
       " -8.59038  7.25704\n",
       " -1.16797  6.16797"
      ]
     },
     "execution_count": 4,
     "metadata": {},
     "output_type": "execute_result"
    }
   ],
   "source": [
    "confint(model, .95)"
   ]
  },
  {
   "cell_type": "code",
   "execution_count": 6,
   "metadata": {
    "collapsed": false
   },
   "outputs": [
    {
     "ename": "LoadError",
     "evalue": "`predict` has no method matching predict(::LinearModel{DensePredQR{Float64}}, ::DataFrame, ::Int64)\nwhile loading In[6], in expression starting on line 1",
     "output_type": "error",
     "traceback": [
      "`predict` has no method matching predict(::LinearModel{DensePredQR{Float64}}, ::DataFrame, ::Int64)\nwhile loading In[6], in expression starting on line 1",
      "",
      " in predict at /home/juser/.julia/v0.3/DataFrames/src/statsmodels/statsmodel.jl:27"
     ]
    }
   ],
   "source": [
    "predict(model, DataFrame(X = [1,2,3]), 3)"
   ]
  }
 ],
 "metadata": {
  "kernelspec": {
   "display_name": "Julia 0.3.6",
   "language": "julia",
   "name": "julia 0.3"
  },
  "language_info": {
   "name": "julia",
   "version": "0.3.6"
  }
 },
 "nbformat": 4,
 "nbformat_minor": 0
}
