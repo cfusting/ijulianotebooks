{
 "cells": [
  {
   "cell_type": "code",
   "execution_count": 5,
   "metadata": {
    "collapsed": true
   },
   "outputs": [],
   "source": [
    "using HypothesisTests"
   ]
  },
  {
   "cell_type": "code",
   "execution_count": 4,
   "metadata": {
    "collapsed": false
   },
   "outputs": [],
   "source": [
    "op = [2.6, 2, 1.7, 2.7, 2.5, 2.6, 2.5, 3];\n",
    "noop = [1.2, 1.8, 1.8, 2.3, 1.3, 3, 2.2, 1.3, 1.5, 1.6, 1.3, 1.5, 2.7, 2];"
   ]
  },
  {
   "cell_type": "code",
   "execution_count": 8,
   "metadata": {
    "collapsed": false
   },
   "outputs": [
    {
     "data": {
      "text/plain": [
       "2.45"
      ]
     },
     "execution_count": 8,
     "metadata": {},
     "output_type": "execute_result"
    }
   ],
   "source": [
    "mean(op)"
   ]
  },
  {
   "cell_type": "code",
   "execution_count": 7,
   "metadata": {
    "collapsed": false
   },
   "outputs": [
    {
     "data": {
      "text/plain": [
       "One sample t-test\n",
       "-----------------\n",
       "Population details:\n",
       "    parameter of interest:   Mean\n",
       "    value under h_0:         0\n",
       "    point estimate:          1.8214285714285716\n",
       "    95% confidence interval: (1.5002119339818036,2.1426452088753396)\n",
       "\n",
       "Test summary:\n",
       "    outcome with 95% confidence: reject h_0\n",
       "    two-sided p-value:           1.6309746181470913e-8 (extremely significant)\n",
       "\n",
       "Details:\n",
       "    number of observations:   14\n",
       "    t-statistic:              12.250166202403463\n",
       "    degrees of freedom:       13\n",
       "    empirical standard error: 0.14868602934311292\n"
      ]
     },
     "execution_count": 7,
     "metadata": {},
     "output_type": "execute_result"
    }
   ],
   "source": [
    "OneSampleTTest(noop)"
   ]
  },
  {
   "cell_type": "code",
   "execution_count": 9,
   "metadata": {
    "collapsed": false
   },
   "outputs": [
    {
     "data": {
      "text/plain": [
       "Two sample t-test (unequal variance)\n",
       "------------------------------------\n",
       "Population details:\n",
       "    parameter of interest:   Mean difference\n",
       "    value under h_0:         0\n",
       "    point estimate:          0.6285714285714286\n",
       "    95% confidence interval: (0.19277966966709498,1.0643631874757622)\n",
       "\n",
       "Test summary:\n",
       "    outcome with 95% confidence: reject h_0\n",
       "    two-sided p-value:           0.007131519551324873 (very significant)\n",
       "\n",
       "Details:\n",
       "    number of observations:   [8,14]\n",
       "    t-statistic:              3.0249522810270006\n",
       "    degrees of freedom:       18.455078560498947\n",
       "    empirical standard error: 0.2077954857383808\n"
      ]
     },
     "execution_count": 9,
     "metadata": {},
     "output_type": "execute_result"
    }
   ],
   "source": [
    "UnequalVarianceTTest(op, noop)"
   ]
  }
 ],
 "metadata": {
  "kernelspec": {
   "display_name": "Julia 0.3.6",
   "language": "julia",
   "name": "julia 0.3"
  },
  "language_info": {
   "name": "julia",
   "version": "0.3.6"
  }
 },
 "nbformat": 4,
 "nbformat_minor": 0
}
