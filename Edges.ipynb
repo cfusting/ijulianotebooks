{
 "cells": [
  {
   "cell_type": "code",
   "execution_count": 1,
   "metadata": {
    "collapsed": false
   },
   "outputs": [
    {
     "name": "stderr",
     "output_type": "stream",
     "text": [
      "Warning: New definition \n",
      "    +(AbstractImageDirect{T,N},AbstractArray{T,N}) at /home/juser/.julia/v0.3/Images/src/algorithms.jl:17\n",
      "is ambiguous with: \n",
      "    +(AbstractArray{Bool,N},DataArray{Bool,N}) at /home/juser/.julia/v0.3/DataArrays/src/operators.jl:326.\n",
      "To fix, define \n",
      "    +(AbstractImageDirect{Bool,N},DataArray{Bool,N})\n",
      "before the new definition.\n",
      "Warning: New definition \n",
      "    +(AbstractImageDirect{T,N},AbstractArray{T,N}) at /home/juser/.julia/v0.3/Images/src/algorithms.jl:17\n",
      "is ambiguous with: \n",
      "    +(AbstractArray{Bool,N},AbstractDataArray{Bool,N}) at /home/juser/.julia/v0.3/DataArrays/src/operators.jl:350.\n",
      "To fix, define \n",
      "    +(AbstractImageDirect{Bool,N},AbstractDataArray{Bool,N})\n",
      "before the new definition.\n",
      "Warning: New definition \n",
      "    .+(AbstractImageDirect{T,N},AbstractArray{T,N}) at /home/juser/.julia/v0.3/Images/src/algorithms.jl:19\n",
      "is ambiguous with: \n",
      "    .+(AbstractArray{T,N},Union(PooledDataArray{T,R<:Integer,N},DataArray{T,N}),AbstractArray{T,N}...) at /home/juser/.julia/v0.3/DataArrays/src/broadcast.jl:285.\n",
      "To fix, define \n",
      "    .+(AbstractImageDirect{T,N},Union(PooledDataArray{T,R<:Integer,N},DataArray{T,N}))\n",
      "before the new definition.\n",
      "Warning: New definition \n",
      "    -(AbstractImageDirect{T,N},AbstractArray{T,N}) at /home/juser/.julia/v0.3/Images/src/algorithms.jl:30\n",
      "is ambiguous with: \n",
      "    -(AbstractArray{Bool,N},DataArray{Bool,N}) at /home/juser/.julia/v0.3/DataArrays/src/operators.jl:326.\n",
      "To fix, define \n",
      "    -(AbstractImageDirect{Bool,N},DataArray{Bool,N})\n",
      "before the new definition.\n",
      "Warning: New definition \n",
      "    -(AbstractImageDirect{T,N},AbstractArray{T,N}) at /home/juser/.julia/v0.3/Images/src/algorithms.jl:30\n",
      "is ambiguous with: \n",
      "    -(AbstractArray{T,N},DataArray{T,N}) at /home/juser/.julia/v0.3/DataArrays/src/operators.jl:326.\n",
      "To fix, define \n",
      "    -(AbstractImageDirect{T,N},DataArray{T,N})\n",
      "before the new definition.\n",
      "Warning: New definition \n",
      "    -(AbstractImageDirect{T,N},AbstractArray{T,N}) at /home/juser/.julia/v0.3/Images/src/algorithms.jl:30\n",
      "is ambiguous with: \n",
      "    -(AbstractArray{Bool,N},AbstractDataArray{Bool,N}) at /home/juser/.julia/v0.3/DataArrays/src/operators.jl:350.\n",
      "To fix, define \n",
      "    -(AbstractImageDirect{Bool,N},AbstractDataArray{Bool,N})\n",
      "before the new definition.\n",
      "Warning: New definition \n",
      "    -(AbstractImageDirect{T,N},AbstractArray{T,N}) at /home/juser/.julia/v0.3/Images/src/algorithms.jl:30\n",
      "is ambiguous with: \n",
      "    -(AbstractArray{T,N},AbstractDataArray{T,N}) at /home/juser/.julia/v0.3/DataArrays/src/operators.jl:350.\n",
      "To fix, define \n",
      "    -(AbstractImageDirect{T,N},AbstractDataArray{T,N})\n",
      "before the new definition.\n",
      "Warning: New definition \n",
      "    .-(AbstractImageDirect{T,N},AbstractArray{T,N}) at /home/juser/.julia/v0.3/Images/src/algorithms.jl:33\n",
      "is ambiguous with: \n",
      "    .-(AbstractArray{T,N},Union(PooledDataArray{T,R<:Integer,N},DataArray{T,N})) at /home/juser/.julia/v0.3/DataArrays/src/broadcast.jl:273.\n",
      "To fix, define \n",
      "    .-(AbstractImageDirect{T,N},Union(PooledDataArray{T,R<:Integer,N},DataArray{T,N}))\n",
      "before the new definition.\n",
      "Warning: New definition \n",
      "    .*(AbstractImageDirect{T,N},AbstractArray{T,N}) at /home/juser/.julia/v0.3/Images/src/algorithms.jl:44\n",
      "is ambiguous with: \n",
      "    .*(AbstractArray{T,N},Union(PooledDataArray{T,R<:Integer,N},DataArray{T,N}),AbstractArray{T,N}...) at /home/juser/.julia/v0.3/DataArrays/src/broadcast.jl:283.\n",
      "To fix, define \n",
      "    .*(AbstractImageDirect{T,N},Union(PooledDataArray{T,R<:Integer,N},DataArray{T,N}))\n",
      "before the new definition.\n",
      "Warning: New definition \n",
      "    .*(AbstractArray{T,N},AbstractImageDirect{T,N}) at /home/juser/.julia/v0.3/Images/src/algorithms.jl:45\n",
      "is ambiguous with: \n",
      "    .*(Union(PooledDataArray{T,R<:Integer,N},DataArray{T,N}),AbstractArray{T,N}...) at /home/juser/.julia/v0.3/DataArrays/src/broadcast.jl:283.\n",
      "To fix, define \n",
      "    .*(Union(PooledDataArray{T,R<:Integer,N},DataArray{T,N}),AbstractImageDirect{T,N})\n",
      "before the new definition.\n",
      "Warning: New definition \n",
      "    ./(AbstractImageDirect{T,N},AbstractArray{T,N}) at /home/juser/.julia/v0.3/Images/src/algorithms.jl:48\n",
      "is ambiguous with: \n",
      "    ./(AbstractArray{T,N},Union(PooledDataArray{T,R<:Integer,N},DataArray{T,N})) at /home/juser/.julia/v0.3/DataArrays/src/broadcast.jl:273.\n",
      "To fix, define \n",
      "    ./(AbstractImageDirect{T,N},Union(PooledDataArray{T,R<:Integer,N},DataArray{T,N}))\n",
      "before the new definition.\n",
      "Warning: New definition \n",
      "    .<(AbstractImageDirect{Bool,N},AbstractArray{Bool,N}) at /home/juser/.julia/v0.3/Images/src/algorithms.jl:120\n",
      "is ambiguous with: \n",
      "    .<(AbstractArray{Bool,N},Union(DataArray{Bool,N},PooledDataArray{Bool,R<:Integer,N})) at /home/juser/.julia/v0.3/DataArrays/src/broadcast.jl:318.\n",
      "To fix, define \n",
      "    .<(AbstractImageDirect{Bool,N},Union(DataArray{Bool,N},PooledDataArray{Bool,R<:Integer,N}))\n",
      "before the new definition.\n",
      "Warning: New definition \n",
      "    .<(AbstractImageDirect{T,N},AbstractArray{T,N}) at /home/juser/.julia/v0.3/Images/src/algorithms.jl:121\n",
      "is ambiguous with: \n",
      "    .<(AbstractArray{Bool,N},Union(DataArray{Bool,N},PooledDataArray{Bool,R<:Integer,N})) at /home/juser/.julia/v0.3/DataArrays/src/broadcast.jl:318.\n",
      "To fix, define \n",
      "    .<(AbstractImageDirect{Bool,N},Union(DataArray{Bool,N},PooledDataArray{Bool,R<:Integer,N}))\n",
      "before the new definition.\n",
      "Warning: New definition \n",
      "    .<(AbstractImageDirect{T,N},AbstractArray{T,N}) at /home/juser/.julia/v0.3/Images/src/algorithms.jl:121\n",
      "is ambiguous with: \n",
      "    .<(AbstractArray{T,N},Union(PooledDataArray{T,R<:Integer,N},DataArray{T,N})) at /home/juser/.julia/v0.3/DataArrays/src/broadcast.jl:273.\n",
      "To fix, define \n",
      "    .<(AbstractImageDirect{T,N},Union(PooledDataArray{T,R<:Integer,N},DataArray{T,N}))\n",
      "before the new definition.\n",
      "Warning: New definition \n",
      "    .>(AbstractImageDirect{T,N},AbstractArray{T,N}) at /home/juser/.julia/v0.3/Images/src/algorithms.jl:122\n",
      "is ambiguous with: \n",
      "    .>(AbstractArray{Bool,N},Union(DataArray{Bool,N},PooledDataArray{Bool,R<:Integer,N})) at /home/juser/.julia/v0.3/DataArrays/src/broadcast.jl:318.\n",
      "To fix, define \n",
      "    .>(AbstractImageDirect{Bool,N},Union(DataArray{Bool,N},PooledDataArray{Bool,R<:Integer,N}))\n",
      "before the new definition.\n",
      "Warning: New definition \n",
      "    .>(AbstractImageDirect{T,N},AbstractArray{T,N}) at /home/juser/.julia/v0.3/Images/src/algorithms.jl:122\n",
      "is ambiguous with: \n",
      "    .>(AbstractArray{T,N},Union(PooledDataArray{T,R<:Integer,N},DataArray{T,N})) at /home/juser/.julia/v0.3/DataArrays/src/broadcast.jl:273.\n",
      "To fix, define \n",
      "    .>(AbstractImageDirect{T,N},Union(PooledDataArray{T,R<:Integer,N},DataArray{T,N}))\n",
      "before the new definition.\n",
      "Warning: New definition \n",
      "    .==(AbstractImageDirect{Bool,N},AbstractArray{Bool,N}) at /home/juser/.julia/v0.3/Images/src/algorithms.jl:124\n",
      "is ambiguous with: \n",
      "    .==(AbstractArray{Bool,N},Union(DataArray{Bool,N},PooledDataArray{Bool,R<:Integer,N})) at /home/juser/.julia/v0.3/DataArrays/src/broadcast.jl:318.\n",
      "To fix, define \n",
      "    .==(AbstractImageDirect{Bool,N},Union(DataArray{Bool,N},PooledDataArray{Bool,R<:Integer,N}))\n",
      "before the new definition.\n",
      "Warning: New definition \n",
      "    .==(AbstractImageDirect{T,N},AbstractArray{T,N}) at /home/juser/.julia/v0.3/Images/src/algorithms.jl:125\n",
      "is ambiguous with: \n",
      "    .==(AbstractArray{Bool,N},Union(DataArray{Bool,N},PooledDataArray{Bool,R<:Integer,N})) at /home/juser/.julia/v0.3/DataArrays/src/broadcast.jl:318.\n",
      "To fix, define \n",
      "    .==(AbstractImageDirect{Bool,N},Union(DataArray{Bool,N},PooledDataArray{Bool,R<:Integer,N}))\n",
      "before the new definition.\n",
      "Warning: New definition \n",
      "    .==(AbstractImageDirect{T,N},AbstractArray{T,N}) at /home/juser/.julia/v0.3/Images/src/algorithms.jl:125\n",
      "is ambiguous with: \n",
      "    .==(AbstractArray{T,N},Union(PooledDataArray{T,R<:Integer,N},DataArray{T,N})) at /home/juser/.julia/v0.3/DataArrays/src/broadcast.jl:273.\n",
      "To fix, define \n",
      "    .==(AbstractImageDirect{T,N},Union(PooledDataArray{T,R<:Integer,N},DataArray{T,N}))\n",
      "before the new definition.\n"
     ]
    },
    {
     "ename": "LoadError",
     "evalue": "TclError(\"error initializing Tk: no display name and no \\$DISPLAY environment variable\")\nwhile loading /home/juser/.julia/v0.3/Tk/src/tkwidget.jl, in expression starting on line 453\nwhile loading /home/juser/.julia/v0.3/Tk/src/Tk.jl, in expression starting on line 31\nwhile loading /home/juser/.julia/v0.3/ImageView/src/ImageView.jl, in expression starting on line 7\nwhile loading In[1], in expression starting on line 1",
     "output_type": "error",
     "traceback": [
      "TclError(\"error initializing Tk: no display name and no \\$DISPLAY environment variable\")\nwhile loading /home/juser/.julia/v0.3/Tk/src/tkwidget.jl, in expression starting on line 453\nwhile loading /home/juser/.julia/v0.3/Tk/src/Tk.jl, in expression starting on line 31\nwhile loading /home/juser/.julia/v0.3/ImageView/src/ImageView.jl, in expression starting on line 7\nwhile loading In[1], in expression starting on line 1",
      "",
      " in init at /home/juser/.julia/v0.3/Tk/src/tkwidget.jl:61",
      " in include at ./boot.jl:245",
      " in include_from_node1 at ./loading.jl:128",
      " in include at ./boot.jl:245",
      " in include_from_node1 at ./loading.jl:128",
      " in reload_path at ./loading.jl:152",
      " in _require at ./loading.jl:67",
      " in require at ./loading.jl:54",
      " in include at ./boot.jl:245",
      " in include_from_node1 at ./loading.jl:128",
      " in reload_path at ./loading.jl:152",
      " in _require at ./loading.jl:67",
      " in require at ./loading.jl:52"
     ]
    }
   ],
   "source": [
    "using Distributions, Images, Color, FixedPointNumbers, ImageView;"
   ]
  },
  {
   "cell_type": "code",
   "execution_count": 2,
   "metadata": {
    "collapsed": false
   },
   "outputs": [],
   "source": [
    "img = imread(\"../equ.jpg\");"
   ]
  },
  {
   "cell_type": "code",
   "execution_count": 3,
   "metadata": {
    "collapsed": false
   },
   "outputs": [
    {
     "name": "stdout",
     "output_type": "stream",
     "text": [
      "RGB Image with:\n",
      "  data: 3264x2448 Array{RGB{UfixedBase{Uint8,8}},2}\n",
      "  properties:\n",
      "    IMcs: sRGB\n",
      "    spatialorder:  x y\n",
      "    pixelspacing:  1 1"
     ]
    }
   ],
   "source": [
    "show(img)"
   ]
  },
  {
   "cell_type": "code",
   "execution_count": 4,
   "metadata": {
    "collapsed": false
   },
   "outputs": [
    {
     "data": {
      "text/plain": [
       "imagetobinarymatrix (generic function with 1 method)"
      ]
     },
     "execution_count": 4,
     "metadata": {},
     "output_type": "execute_result"
    }
   ],
   "source": [
    "# Convert an image to a binary matrix based on a threshold value ∈ [0,3].\n",
    "function imagetobinarymatrix(img, threshold)\n",
    "    result = Array(Int, width(img), height(img))\n",
    "    for x = 1:width(img)\n",
    "        for y = 1:height(img)\n",
    "            if ((img[x,y].r + img[x,y].g + img[x,y].b) < threshold)\n",
    "                result[x,y] = 0\n",
    "            else\n",
    "                result[x,y] = 1\n",
    "            end\n",
    "        end\n",
    "    end\n",
    "    result\n",
    "end"
   ]
  },
  {
   "cell_type": "code",
   "execution_count": 16,
   "metadata": {
    "collapsed": false
   },
   "outputs": [
    {
     "data": {
      "text/plain": [
       "3264x2448 Array{Int64,2}:\n",
       " 1  1  1  1  1  1  1  1  1  1  1  1  1  …  1  1  1  1  1  1  1  1  1  1  1  1\n",
       " 1  1  1  1  1  1  1  1  1  1  1  1  1     1  1  1  1  1  1  1  1  1  1  1  1\n",
       " 1  1  1  1  1  1  1  1  1  1  1  1  1     1  1  1  1  1  1  1  1  1  1  1  1\n",
       " 1  1  1  1  1  1  1  1  1  1  1  1  1     1  1  1  1  1  1  1  1  1  1  1  1\n",
       " 1  1  1  1  1  1  1  1  1  1  1  1  1     1  1  1  1  1  1  1  1  1  1  1  1\n",
       " 1  1  1  1  1  1  1  1  1  1  1  1  1  …  1  1  1  1  1  1  1  1  1  1  1  1\n",
       " 1  1  1  1  1  1  1  1  1  1  1  1  1     1  1  1  1  1  1  1  1  1  1  1  1\n",
       " 1  1  1  1  1  1  1  1  1  1  1  1  1     1  1  1  1  1  1  1  1  1  1  1  1\n",
       " 1  1  1  1  1  1  1  1  1  1  1  1  1     1  1  1  1  1  1  1  1  1  1  1  1\n",
       " 1  1  1  1  1  1  1  1  1  1  1  1  1     1  1  1  1  1  1  1  1  1  1  1  1\n",
       " 1  1  1  1  1  1  1  1  1  1  1  1  1  …  1  1  1  1  1  1  1  1  1  1  1  1\n",
       " 1  1  1  1  1  1  1  1  1  1  1  1  1     1  1  1  1  1  1  1  1  1  1  1  1\n",
       " 1  1  1  1  1  1  1  1  1  1  1  1  1     1  1  1  1  1  1  1  1  1  1  1  1\n",
       " ⋮              ⋮              ⋮        ⋱              ⋮              ⋮      \n",
       " 1  1  1  1  1  1  1  1  1  1  1  1  1     1  1  1  1  1  1  1  1  1  1  1  1\n",
       " 1  1  1  1  1  1  1  1  1  1  1  1  1     1  1  1  1  1  1  1  1  1  1  1  1\n",
       " 1  1  1  1  1  1  1  1  1  1  1  1  1     1  1  1  1  1  1  1  1  1  1  1  1\n",
       " 1  1  1  1  1  1  1  1  1  1  1  1  1  …  1  1  1  1  1  1  1  1  1  1  1  1\n",
       " 1  1  1  1  1  1  1  1  1  1  1  1  1     1  1  1  1  1  1  1  1  1  1  1  1\n",
       " 1  1  1  1  1  1  1  1  1  1  1  1  1     1  1  1  1  1  1  1  1  1  1  1  1\n",
       " 1  1  1  1  1  1  1  1  1  1  1  1  1     1  1  1  1  1  1  1  1  1  1  1  1\n",
       " 1  1  1  1  1  1  1  1  1  1  1  1  1     1  1  1  1  1  1  1  1  1  1  1  1\n",
       " 1  1  1  1  1  1  1  1  1  1  1  1  1  …  1  1  1  1  1  1  1  1  1  1  1  1\n",
       " 1  1  1  1  1  1  1  1  1  1  1  1  1     1  1  1  1  1  1  1  1  1  1  1  1\n",
       " 1  1  1  1  1  1  1  1  1  1  1  1  1     1  1  1  1  1  1  1  1  1  1  1  1\n",
       " 1  1  1  1  1  1  1  1  1  1  1  1  1     1  1  1  1  1  1  1  1  1  1  1  1"
      ]
     },
     "execution_count": 16,
     "metadata": {},
     "output_type": "execute_result"
    }
   ],
   "source": [
    "bm = imagetobinarymatrix(img, 1)"
   ]
  },
  {
   "cell_type": "code",
   "execution_count": 17,
   "metadata": {
    "collapsed": false
   },
   "outputs": [
    {
     "data": {
      "text/plain": [
       "binarymatrixtoimage (generic function with 1 method)"
      ]
     },
     "execution_count": 17,
     "metadata": {},
     "output_type": "execute_result"
    }
   ],
   "source": [
    "# Convert a binary array into a gray image. \n",
    "function binarymatrixtoimage(data)\n",
    "    width = size(data, 1)\n",
    "    height = size(data, 2)\n",
    "    result = Array(RGB, width, height)\n",
    "    for x = 1:width\n",
    "        for y = 1:height\n",
    "            if (data[x,y] == 1)\n",
    "                result[x,y] = RGB(1,1,1)\n",
    "            else\n",
    "                result[x,y] = RGB(0,0,0)\n",
    "            end\n",
    "        end\n",
    "    end\n",
    "    grayim(result)\n",
    "end"
   ]
  },
  {
   "cell_type": "code",
   "execution_count": 18,
   "metadata": {
    "collapsed": false
   },
   "outputs": [
    {
     "data": {
      "image/png": "[encoded data removed]",
      "text/plain": [
       "RGB Image with:\n",
       "  data: 3264x2448 Array{RGB{T<:Union(FloatingPoint,FixedPoint)},2}\n",
       "  properties:\n",
       "    colorspace: Gray\n",
       "    spatialorder:  x y"
      ]
     },
     "execution_count": 18,
     "metadata": {},
     "output_type": "execute_result"
    }
   ],
   "source": [
    "binarymatrixtoimage(bm)"
   ]
  },
  {
   "cell_type": "code",
   "execution_count": 19,
   "metadata": {
    "collapsed": false
   },
   "outputs": [
    {
     "data": {
      "text/plain": [
       "rowdetect (generic function with 1 method)"
      ]
     },
     "execution_count": 19,
     "metadata": {},
     "output_type": "execute_result"
    }
   ],
   "source": [
    "function rowdetect(data)\n",
    "    width = size(data, 1)\n",
    "    height = size(data, 2)\n",
    "    result = Array(Int, width, height)\n",
    "    line = false\n",
    "    for y = 1:height\n",
    "        if (mean(data[1:width, y]) == 1 && line == false)\n",
    "            result[1:width, y] = 0 \n",
    "            line = true\n",
    "        elseif (mean(data[1:width, y]) < 1)\n",
    "            result[1:width, y] = data[1:width, y] \n",
    "            line = false\n",
    "        else\n",
    "            result[1:width, y] = 1\n",
    "        end\n",
    "    end\n",
    "    result\n",
    "end"
   ]
  },
  {
   "cell_type": "code",
   "execution_count": 21,
   "metadata": {
    "collapsed": false
   },
   "outputs": [
    {
     "data": {
      "image/png": "[encoded data removed]",
      "text/plain": [
       "RGB Image with:\n",
       "  data: 3264x2448 Array{RGB{T<:Union(FloatingPoint,FixedPoint)},2}\n",
       "  properties:\n",
       "    colorspace: Gray\n",
       "    spatialorder:  x y"
      ]
     },
     "execution_count": 21,
     "metadata": {},
     "output_type": "execute_result"
    }
   ],
   "source": [
    "bl = binarymatrixtoimage(rowdetect(bm))"
   ]
  }
 ],
 "metadata": {
  "kernelspec": {
   "display_name": "Julia 0.3.6",
   "language": "julia",
   "name": "julia 0.3"
  },
  "language_info": {
   "name": "julia",
   "version": "0.3.6"
  }
 },
 "nbformat": 4,
 "nbformat_minor": 0
}
