{
 "cells": [
  {
   "cell_type": "code",
   "execution_count": 2,
   "metadata": {
    "collapsed": true
   },
   "outputs": [],
   "source": [
    "using HypothesisTests"
   ]
  },
  {
   "cell_type": "markdown",
   "metadata": {},
   "source": [
    "# Exercise 8.2-3 "
   ]
  },
  {
   "cell_type": "code",
   "execution_count": 1,
   "metadata": {
    "collapsed": true
   },
   "outputs": [],
   "source": [
    "x = [21.7, 21, 21.2, 20.7, 20.4, 21.9, 20.2, 21.6, 20.6]\n",
    "y = [21.5, 20.5, 20.3, 21.6, 21.7, 21.3, 23, 21.3, 18.9, 20, 20.4, 20.8, 20.3];"
   ]
  },
  {
   "cell_type": "code",
   "execution_count": 3,
   "metadata": {
    "collapsed": false
   },
   "outputs": [
    {
     "data": {
      "text/plain": [
       "Two sample t-test (unequal variance)\n",
       "------------------------------------\n",
       "Population details:\n",
       "    parameter of interest:   Mean difference\n",
       "    value under h_0:         0\n",
       "    point estimate:          0.14102564102563875\n",
       "    95% confidence interval: (-0.57868753794418,0.8607388199954575)\n",
       "\n",
       "Test summary:\n",
       "    outcome with 95% confidence: fail to reject h_0\n",
       "    two-sided p-value:           0.6868814264729179 (not signficant)\n",
       "\n",
       "Details:\n",
       "    number of observations:   [9,13]\n",
       "    t-statistic:              0.40908591464647465\n",
       "    degrees of freedom:       19.73834805535607\n",
       "    empirical standard error: 0.3447335534578618\n"
      ]
     },
     "execution_count": 3,
     "metadata": {},
     "output_type": "execute_result"
    }
   ],
   "source": [
    "UnequalVarianceTTest(x, y)"
   ]
  },
  {
   "cell_type": "markdown",
   "metadata": {},
   "source": [
    "# "
   ]
  },
  {
   "cell_type": "markdown",
   "metadata": {},
   "source": [
    "# Exercise 8.2-5 "
   ]
  },
  {
   "cell_type": "code",
   "execution_count": 4,
   "metadata": {
    "collapsed": true
   },
   "outputs": [],
   "source": [
    "x = [49, 108, 110, 82, 93, 114, 134, 114, 96, 52, 101, 114, 120, 116]\n",
    "y = [133, 108, 93, 119, 119, 98, 106, 131, 87, 153, 116, 129, 97, 110];"
   ]
  },
  {
   "cell_type": "code",
   "execution_count": 5,
   "metadata": {
    "collapsed": false
   },
   "outputs": [
    {
     "data": {
      "text/plain": [
       "Two sample t-test (unequal variance)\n",
       "------------------------------------\n",
       "Population details:\n",
       "    parameter of interest:   Mean difference\n",
       "    value under h_0:         0\n",
       "    point estimate:          -14.0\n",
       "    95% confidence interval: (-30.85832070701437,2.8583207070143715)\n",
       "\n",
       "Test summary:\n",
       "    outcome with 95% confidence: fail to reject h_0\n",
       "    two-sided p-value:           0.09941040273015327 (not signficant)\n",
       "\n",
       "Details:\n",
       "    number of observations:   [14,14]\n",
       "    t-statistic:              -1.7142627371048327\n",
       "    degrees of freedom:       23.92161592097501\n",
       "    empirical standard error: 8.166776128870527\n"
      ]
     },
     "execution_count": 5,
     "metadata": {},
     "output_type": "execute_result"
    }
   ],
   "source": [
    "UnequalVarianceTTest(x, y)"
   ]
  }
 ],
 "metadata": {
  "kernelspec": {
   "display_name": "Julia 0.3.6",
   "language": "julia",
   "name": "julia 0.3"
  },
  "language_info": {
   "name": "julia",
   "version": "0.3.6"
  }
 },
 "nbformat": 4,
 "nbformat_minor": 0
}
