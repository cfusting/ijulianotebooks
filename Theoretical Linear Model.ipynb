{
 "cells": [
  {
   "cell_type": "code",
   "execution_count": 3,
   "metadata": {
    "collapsed": false
   },
   "outputs": [],
   "source": [
    "using GLM, DataFrames"
   ]
  },
  {
   "cell_type": "code",
   "execution_count": 4,
   "metadata": {
    "collapsed": false
   },
   "outputs": [
    {
     "data": {
      "text/html": [
       "<table class=\"data-frame\"><tr><th></th><th>X</th><th>Y</th></tr><tr><th>1</th><td>1</td><td>0</td></tr><tr><th>2</th><td>5</td><td>2</td></tr><tr><th>3</th><td>4</td><td>3</td></tr><tr><th>4</th><td>2</td><td>1</td></tr><tr><th>5</th><td>3</td><td>3</td></tr></table>"
      ],
      "text/plain": [
       "5x2 DataFrame\n",
       "| Row | X | Y |\n",
       "|-----|---|---|\n",
       "| 1   | 1 | 0 |\n",
       "| 2   | 5 | 2 |\n",
       "| 3   | 4 | 3 |\n",
       "| 4   | 2 | 1 |\n",
       "| 5   | 3 | 3 |"
      ]
     },
     "execution_count": 4,
     "metadata": {},
     "output_type": "execute_result"
    }
   ],
   "source": [
    "data = DataFrame(X = [1, 5, 4, 2, 3], Y = [0, 2, 3, 1, 3])"
   ]
  },
  {
   "cell_type": "code",
   "execution_count": 6,
   "metadata": {
    "collapsed": false
   },
   "outputs": [
    {
     "data": {
      "text/plain": [
       "DataFrameRegressionModel{GeneralizedLinearModel{GlmResp{Array{Float64,1},Normal,IdentityLink},DensePredChol{Float64}},Float64}:\n",
       "\n",
       "Coefficients:\n",
       "                Estimate Std.Error     z value Pr(>|z|)\n",
       "(Intercept)  2.44249e-16   1.08321 2.25487e-16   1.0000\n",
       "X                    0.6  0.326599     1.83712   0.0662\n"
      ]
     },
     "execution_count": 6,
     "metadata": {},
     "output_type": "execute_result"
    }
   ],
   "source": [
    "OLS = glm(Y ~ X, data, Normal())"
   ]
  },
  {
   "cell_type": "code",
   "execution_count": 7,
   "metadata": {
    "collapsed": false
   },
   "outputs": [
    {
     "data": {
      "text/plain": [
       "1-element Array{Float64,1}:\n",
       " 3.6"
      ]
     },
     "execution_count": 7,
     "metadata": {},
     "output_type": "execute_result"
    }
   ],
   "source": [
    "predict(OLS, DataFrame(X = [6]))"
   ]
  },
  {
   "cell_type": "code",
   "execution_count": 14,
   "metadata": {
    "collapsed": false
   },
   "outputs": [
    {
     "data": {
      "text/plain": [
       "1.7999999999999998"
      ]
     },
     "execution_count": 14,
     "metadata": {},
     "output_type": "execute_result"
    }
   ],
   "source": [
    "α = coef(OLS)[1] + coef(OLS)[2] * mean(data[:X])"
   ]
  },
  {
   "cell_type": "code",
   "execution_count": null,
   "metadata": {
    "collapsed": true
   },
   "outputs": [],
   "source": [
    "σ² = "
   ]
  },
  {
   "cell_type": "code",
   "execution_count": 15,
   "metadata": {
    "collapsed": false
   },
   "outputs": [
    {
     "data": {
      "text/plain": [
       "DataFrameRegressionModel{GeneralizedLinearModel{GlmResp{Array{Float64,1},Normal,IdentityLink},DensePredChol{Float64}},Float64}:\n",
       "\n",
       "Coefficients:\n",
       "                Estimate Std.Error     z value Pr(>|z|)\n",
       "(Intercept)  2.44249e-16   1.08321 2.25487e-16   1.0000\n",
       "X                    0.6  0.326599     1.83712   0.0662\n"
      ]
     },
     "execution_count": 15,
     "metadata": {},
     "output_type": "execute_result"
    }
   ],
   "source": [
    "OLS"
   ]
  }
 ],
 "metadata": {
  "kernelspec": {
   "display_name": "Julia 0.3.6",
   "language": "julia",
   "name": "julia 0.3"
  },
  "language_info": {
   "name": "julia",
   "version": "0.3.6"
  }
 },
 "nbformat": 4,
 "nbformat_minor": 0
}
