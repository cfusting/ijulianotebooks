{
 "cells": [
  {
   "cell_type": "code",
   "execution_count": 1,
   "metadata": {
    "collapsed": false
   },
   "outputs": [],
   "source": [
    "using Distributions, HypothesisTests"
   ]
  },
  {
   "cell_type": "code",
   "execution_count": 2,
   "metadata": {
    "collapsed": false
   },
   "outputs": [
    {
     "data": {
      "text/plain": [
       "NormalBinomialTest (generic function with 3 methods)"
      ]
     },
     "execution_count": 2,
     "metadata": {},
     "output_type": "execute_result"
    }
   ],
   "source": [
    "function NormalBinomialTest(y, n, coverage = .95, bound = :both)\n",
    "    α = 1 - coverage\n",
    "    β = (bound == :both) ? α / 2 : α\n",
    "    z = quantile(Normal(0,1), 1 - β)\n",
    "    if (bound == :both)\n",
    "        return (y/n - (z * sqrt((y/n * (1 - y/n)) / n)), \n",
    "        y/n + (z * sqrt((y/n * (1 - y/n)) / n)))\n",
    "    elseif (bound == :upper)\n",
    "        return (y/n) + (z * sqrt(((y/n) * (1 - (y/n))) / n))\n",
    "    elseif (bound == :lower)\n",
    "        return (y/n) - (z * sqrt(((y/n) * (1 - (y/n))) / n))\n",
    "    end\n",
    "end"
   ]
  },
  {
   "cell_type": "markdown",
   "metadata": {},
   "source": [
    "# Example 7.3-2 "
   ]
  },
  {
   "cell_type": "code",
   "execution_count": 3,
   "metadata": {
    "collapsed": false
   },
   "outputs": [
    {
     "data": {
      "text/plain": [
       "Binomial test\n",
       "-------------\n",
       "Population details:\n",
       "    parameter of interest:   Probability of success\n",
       "    value under h_0:         0.5\n",
       "    point estimate:          0.5270655270655271\n",
       "    95% confidence interval: (0.4733710938678728,0.5802996094112624)\n",
       "\n",
       "Test summary:\n",
       "    outcome with 95% confidence: fail to reject h_0\n",
       "    two-sided p-value:           0.3366776290913685 (not signficant)\n",
       "\n",
       "Details:\n",
       "    number of observations: 351\n",
       "    number of successes:    185\n"
      ]
     },
     "execution_count": 3,
     "metadata": {},
     "output_type": "execute_result"
    }
   ],
   "source": [
    "BinomialTest(185, 351)"
   ]
  },
  {
   "cell_type": "markdown",
   "metadata": {},
   "source": [
    "# Exercise 7.3-2 "
   ]
  },
  {
   "cell_type": "code",
   "execution_count": 4,
   "metadata": {
    "collapsed": false
   },
   "outputs": [
    {
     "data": {
      "text/plain": [
       "0.71"
      ]
     },
     "execution_count": 4,
     "metadata": {},
     "output_type": "execute_result"
    }
   ],
   "source": [
    "142/200"
   ]
  },
  {
   "cell_type": "code",
   "execution_count": 5,
   "metadata": {
    "collapsed": false
   },
   "outputs": [
    {
     "data": {
      "text/plain": [
       "(0.657223518628169,0.762776481371831)"
      ]
     },
     "execution_count": 5,
     "metadata": {},
     "output_type": "execute_result"
    }
   ],
   "source": [
    "NormalBinomialTest(142, 200, .90)"
   ]
  },
  {
   "cell_type": "markdown",
   "metadata": {},
   "source": [
    "Clopper-Pearson interval"
   ]
  },
  {
   "cell_type": "code",
   "execution_count": 6,
   "metadata": {
    "collapsed": false
   },
   "outputs": [
    {
     "data": {
      "text/plain": [
       "Binomial test\n",
       "-------------\n",
       "Population details:\n",
       "    parameter of interest:   Probability of success\n",
       "    value under h_0:         0.1\n",
       "    point estimate:          0.71\n",
       "    95% confidence interval: (0.6418125478377089,0.7718430106364886)\n",
       "\n",
       "Test summary:\n",
       "    outcome with 95% confidence: reject h_0\n",
       "    two-sided p-value:           5.783604762913544e-94 (extremely significant)\n",
       "\n",
       "Details:\n",
       "    number of observations: 200\n",
       "    number of successes:    142\n"
      ]
     },
     "execution_count": 6,
     "metadata": {},
     "output_type": "execute_result"
    }
   ],
   "source": [
    "BinomialTest(142, 200, .1)"
   ]
  },
  {
   "cell_type": "markdown",
   "metadata": {},
   "source": [
    "# Exercise 7.3-4 "
   ]
  },
  {
   "cell_type": "markdown",
   "metadata": {},
   "source": [
    "Clopper-Pearson interval"
   ]
  },
  {
   "cell_type": "code",
   "execution_count": 7,
   "metadata": {
    "collapsed": false
   },
   "outputs": [
    {
     "data": {
      "text/plain": [
       "Binomial test\n",
       "-------------\n",
       "Population details:\n",
       "    parameter of interest:   Probability of success\n",
       "    value under h_0:         0.5\n",
       "    point estimate:          0.700162074554295\n",
       "    95% confidence interval: (0.6737373831093183,0.725629364920949)\n",
       "\n",
       "Test summary:\n",
       "    outcome with 95% confidence: reject h_0\n",
       "    two-sided p-value:           5.8344237437446786e-46 (extremely significant)\n",
       "\n",
       "Details:\n",
       "    number of observations: 1234\n",
       "    number of successes:    864\n"
      ]
     },
     "execution_count": 7,
     "metadata": {},
     "output_type": "execute_result"
    }
   ],
   "source": [
    "BinomialTest(864, 1234)"
   ]
  },
  {
   "cell_type": "markdown",
   "metadata": {},
   "source": [
    "# Exercise 7.3-8 "
   ]
  },
  {
   "cell_type": "code",
   "execution_count": 8,
   "metadata": {
    "collapsed": false
   },
   "outputs": [
    {
     "data": {
      "text/plain": [
       "0.3796477495107632"
      ]
     },
     "execution_count": 8,
     "metadata": {},
     "output_type": "execute_result"
    }
   ],
   "source": [
    "388 / 1022"
   ]
  },
  {
   "cell_type": "markdown",
   "metadata": {},
   "source": [
    "Clopper-Pearson interval"
   ]
  },
  {
   "cell_type": "code",
   "execution_count": 9,
   "metadata": {
    "collapsed": false
   },
   "outputs": [
    {
     "data": {
      "text/plain": [
       "(0.35446936823270475,0.40534129498803817)"
      ]
     },
     "execution_count": 9,
     "metadata": {},
     "output_type": "execute_result"
    }
   ],
   "source": [
    "ci(BinomialTest(388, 1022), .1)"
   ]
  },
  {
   "cell_type": "markdown",
   "metadata": {},
   "source": [
    "# Exercise 7.3-12 "
   ]
  },
  {
   "cell_type": "code",
   "execution_count": 10,
   "metadata": {
    "collapsed": false
   },
   "outputs": [
    {
     "data": {
      "text/plain": [
       "binomialDifferenceNormal (generic function with 1 method)"
      ]
     },
     "execution_count": 10,
     "metadata": {},
     "output_type": "execute_result"
    }
   ],
   "source": [
    "function binomialDifferenceNormal(y₁, n₁, y₂, n₂; coverage = .95, bound = :both)\n",
    "    α = 1 - coverage\n",
    "    β = (bound == :both) ? α / 2 : α\n",
    "    z = quantile(Normal(0,1), 1 - β)\n",
    "    μ = y₁ / n₁ - y₂ / n₂\n",
    "    σ² = sqrt((y₁ / n₁ * (1 - y₁ / n₁)) / n₁ + (y₂ / n₂ * (1 - y₂ / n₂)) / n₂)\n",
    "    if (bound == :both)\n",
    "        return (μ - z * σ², μ + z * σ²)\n",
    "    elseif (bound == :upper)\n",
    "        return μ + z * σ²\n",
    "    elseif (bound == :lower)\n",
    "        return μ - z * σ²\n",
    "    end\n",
    "end"
   ]
  },
  {
   "cell_type": "code",
   "execution_count": 11,
   "metadata": {
    "collapsed": false
   },
   "outputs": [
    {
     "data": {
      "text/plain": [
       "(-0.03240160239676623,0.130622946270284)"
      ]
     },
     "execution_count": 11,
     "metadata": {},
     "output_type": "execute_result"
    }
   ],
   "source": [
    "binomialDifferenceNormal(170, 460, 141, 440, coverage = .99)"
   ]
  }
 ],
 "metadata": {
  "kernelspec": {
   "display_name": "Julia 0.3.6",
   "language": "julia",
   "name": "julia 0.3"
  },
  "language_info": {
   "name": "julia",
   "version": "0.3.6"
  }
 },
 "nbformat": 4,
 "nbformat_minor": 0
}
