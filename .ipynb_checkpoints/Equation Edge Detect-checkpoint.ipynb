{
 "cells": [
  {
   "cell_type": "code",
   "execution_count": 6,
   "metadata": {
    "collapsed": false
   },
   "outputs": [
    {
     "ename": "LoadError",
     "evalue": "TclError(\"error initializing Tk: no display name and no \\$DISPLAY environment variable\")\nwhile loading /home/juser/.julia/v0.3/Tk/src/tkwidget.jl, in expression starting on line 453\nwhile loading /home/juser/.julia/v0.3/Tk/src/Tk.jl, in expression starting on line 31\nwhile loading /home/juser/.julia/v0.3/ImageView/src/ImageView.jl, in expression starting on line 7\nwhile loading In[6], in expression starting on line 1",
     "output_type": "error",
     "traceback": [
      "TclError(\"error initializing Tk: no display name and no \\$DISPLAY environment variable\")\nwhile loading /home/juser/.julia/v0.3/Tk/src/tkwidget.jl, in expression starting on line 453\nwhile loading /home/juser/.julia/v0.3/Tk/src/Tk.jl, in expression starting on line 31\nwhile loading /home/juser/.julia/v0.3/ImageView/src/ImageView.jl, in expression starting on line 7\nwhile loading In[6], in expression starting on line 1",
      "",
      " in init at /home/juser/.julia/v0.3/Tk/src/tkwidget.jl:61",
      " in include at ./boot.jl:245",
      " in include_from_node1 at ./loading.jl:128",
      " in include at ./boot.jl:245",
      " in include_from_node1 at ./loading.jl:128",
      " in reload_path at ./loading.jl:152",
      " in _require at ./loading.jl:67",
      " in require at ./loading.jl:54",
      " in include at ./boot.jl:245",
      " in include_from_node1 at ./loading.jl:128",
      " in reload_path at ./loading.jl:152",
      " in _require at ./loading.jl:67",
      " in require at ./loading.jl:52"
     ]
    }
   ],
   "source": [
    "using Distributions, Images, Color, FixedPointNumbers, ImageView;"
   ]
  },
  {
   "cell_type": "code",
   "execution_count": 9,
   "metadata": {
    "collapsed": false
   },
   "outputs": [],
   "source": [
    "img = imread(\"../equ.jpg\");"
   ]
  },
  {
   "cell_type": "code",
   "execution_count": 60,
   "metadata": {
    "collapsed": false
   },
   "outputs": [
    {
     "data": {
      "text/plain": [
       "imagetobinarymatrix (generic function with 1 method)"
      ]
     },
     "execution_count": 60,
     "metadata": {},
     "output_type": "execute_result"
    }
   ],
   "source": [
    "# Convert an image to a binary matrix based on a threshold value ∈ [0,3].\n",
    "function imagetobinarymatrix(img, threshold)\n",
    "    result = Array(Int, width(img), height(img))\n",
    "    for x = 1:width(img)\n",
    "        for y = 1:height(img)\n",
    "            if ((img[x,y].r + img[x,y].g + img[x,y].b) < threshold)\n",
    "                result[x,y] = 0\n",
    "            else\n",
    "                result[x,y] = 1\n",
    "            end\n",
    "        end\n",
    "    end\n",
    "    result\n",
    "end"
   ]
  },
  {
   "cell_type": "code",
   "execution_count": 61,
   "metadata": {
    "collapsed": false
   },
   "outputs": [],
   "source": [
    "bm = imagetobinarymatrix(img, 1.2);"
   ]
  },
  {
   "cell_type": "code",
   "execution_count": 96,
   "metadata": {
    "collapsed": false
   },
   "outputs": [
    {
     "data": {
      "text/plain": [
       "binarymatrixtoimage (generic function with 2 methods)"
      ]
     },
     "execution_count": 96,
     "metadata": {},
     "output_type": "execute_result"
    }
   ],
   "source": [
    "# Convert a binary array into a gray image. \n",
    "function binarymatrixtoimage(data)\n",
    "    width = size(data, 1)\n",
    "    height = size(data, 2)\n",
    "    result = Array(RGB, width, height)\n",
    "    for x = 1:width\n",
    "        for y = 1:height\n",
    "            if (data[x,y] == 1)\n",
    "                result[x,y] = RGB(1,1,1)\n",
    "            else\n",
    "                result[x,y] = RGB(0,0,0)\n",
    "            end\n",
    "        end\n",
    "    end\n",
    "    grayim(result)\n",
    "end"
   ]
  },
  {
   "cell_type": "code",
   "execution_count": null,
   "metadata": {
    "collapsed": true
   },
   "outputs": [],
   "source": []
  }
 ],
 "metadata": {
  "kernelspec": {
   "display_name": "Julia 0.3.6",
   "language": "julia",
   "name": "julia 0.3"
  },
  "language_info": {
   "name": "julia",
   "version": "0.3.6"
  }
 },
 "nbformat": 4,
 "nbformat_minor": 0
}
